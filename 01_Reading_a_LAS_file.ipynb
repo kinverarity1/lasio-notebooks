{
 "cells": [
  {
   "cell_type": "markdown",
   "metadata": {
    "collapsed": true
   },
   "source": [
    "Reading a LAS file\n",
    "==================\n",
    "\n",
    "This example shows you how to use `lasio` to read a LAS file version `1.2`."
   ]
  },
  {
   "cell_type": "markdown",
   "metadata": {},
   "source": [
    "Everything in `lasio` is available from a basic import, so all you need to do is:"
   ]
  },
  {
   "cell_type": "code",
   "execution_count": 2,
   "metadata": {
    "collapsed": false
   },
   "outputs": [],
   "source": [
    "import lasio"
   ]
  },
  {
   "cell_type": "markdown",
   "metadata": {},
   "source": [
    "The `read()` function accepts a filename, string, URL, or file-like object."
   ]
  },
  {
   "cell_type": "markdown",
   "metadata": {},
   "source": [
    "help(lasio.read)"
   ]
  },
  {
   "cell_type": "code",
   "execution_count": 21,
   "metadata": {
    "collapsed": false
   },
   "outputs": [],
   "source": [
    "import os\n",
    "fname = os.path.join(\".\", \"data\", \"standards\", \"1.2\", \"sample.las\")\n",
    "l = lasio.read(fname)"
   ]
  },
  {
   "cell_type": "markdown",
   "metadata": {},
   "source": [
    "The `read()` function returns a `LASFile` object:"
   ]
  },
  {
   "cell_type": "code",
   "execution_count": 22,
   "metadata": {
    "collapsed": false
   },
   "outputs": [
    {
     "data": {
      "text/plain": [
       "lasio.las.LASFile"
      ]
     },
     "execution_count": 22,
     "metadata": {},
     "output_type": "execute_result"
    }
   ],
   "source": [
    "type(l)"
   ]
  },
  {
   "cell_type": "markdown",
   "metadata": {},
   "source": [
    "The log data is accessed directly as [`numpy.ndarray`](http://docs.scipy.org/doc/numpy-1.10.0/reference/generated/numpy.ndarray.html) objects. You can list it as a dictionary, by invoking the `keys()` method."
   ]
  },
  {
   "cell_type": "code",
   "execution_count": 23,
   "metadata": {
    "collapsed": false
   },
   "outputs": [
    {
     "data": {
      "text/plain": [
       "['DEPT', 'DT', 'RHOB', 'NPHI', 'SFLU', 'SFLA', 'ILM', 'ILD']"
      ]
     },
     "execution_count": 23,
     "metadata": {},
     "output_type": "execute_result"
    }
   ],
   "source": [
    "l.keys()"
   ]
  },
  {
   "cell_type": "markdown",
   "metadata": {},
   "source": [
    "To see the content of a particular log, such as the `'RHOB'` you can use its key."
   ]
  },
  {
   "cell_type": "code",
   "execution_count": 29,
   "metadata": {
    "collapsed": false
   },
   "outputs": [
    {
     "data": {
      "text/plain": [
       "array([ 2550.,  2550.,  2550.])"
      ]
     },
     "execution_count": 29,
     "metadata": {},
     "output_type": "execute_result"
    }
   ],
   "source": [
    "l['RHOB']"
   ]
  },
  {
   "cell_type": "markdown",
   "metadata": {},
   "source": [
    "It is also possible to access the log contents by index. Remembering that the first index is zero and the reference of the file; usually the depth."
   ]
  },
  {
   "cell_type": "code",
   "execution_count": 31,
   "metadata": {
    "collapsed": false
   },
   "outputs": [
    {
     "data": {
      "text/plain": [
       "array([ 2550.,  2550.,  2550.])"
      ]
     },
     "execution_count": 31,
     "metadata": {},
     "output_type": "execute_result"
    }
   ],
   "source": [
    "l[2]"
   ]
  },
  {
   "cell_type": "markdown",
   "metadata": {},
   "source": [
    "All logs are directly exposed by the `data` item, which returns a multi-dimensional `ndarray`."
   ]
  },
  {
   "cell_type": "code",
   "execution_count": 36,
   "metadata": {
    "collapsed": false
   },
   "outputs": [
    {
     "data": {
      "text/plain": [
       "(3L, 8L)"
      ]
     },
     "execution_count": 36,
     "metadata": {},
     "output_type": "execute_result"
    }
   ],
   "source": [
    "l.data.shape"
   ]
  },
  {
   "cell_type": "markdown",
   "metadata": {},
   "source": [
    "The ASCII content of the LAS file is always stored in the `_text` item. "
   ]
  },
  {
   "cell_type": "code",
   "execution_count": 38,
   "metadata": {
    "collapsed": false
   },
   "outputs": [
    {
     "name": "stdout",
     "output_type": "stream",
     "text": [
      "~VERSION INFORMATION\n",
      " VERS.                  1.2:   CWLS LOG ASCII STANDARD -VERSION 1.2\n",
      " WRAP.                  NO:   ONE LINE PER DEPTH STEP\n",
      "~WELL INFORMATION BLOCK\n",
      "#MNEM.UNIT       DATA TYPE    INFORMATION\n",
      "#---------    -------------   ------------------------------\n",
      " STRT.M        1670.000000:\n",
      " STOP.M        1660.000000:\n",
      " STEP.M            -0.1250:\n",
      " NULL.           -999.2500:\n",
      " COMP.             COMPANY:   # ANY OIL COMPANY LTD.\n",
      " WELL.                WELL:   ANY ET AL OIL WELL #12\n",
      " FLD .               FIELD:   EDAM\n",
      " LOC .            LOCATION:   A9-16-49-20W3M\n",
      " PROV.            PROVINCE:   SASKATCHEWAN\n",
      " SRVC.     SERVICE COMPANY:   ANY LOGGING COMPANY LTD.\n",
      " DATE.            LOG DATE:   25-DEC-1988\n",
      " UWI .      UNIQUE WELL ID:   100091604920W300\n",
      "~CURVE INFORMATION\n",
      "#MNEM.UNIT      API CODE      CURVE DESCRIPTION\n",
      "#---------    -------------   ------------------------------\n",
      " DEPT.M                      :  1  DEPTH\n",
      " DT  .US/M     \t\t     :  2  SONIC TRANSIT TIME\n",
      " RHOB.K/M3                   :  3  BULK DENSITY\n",
      " NPHI.V/V                    :  4   NEUTRON POROSITY\n",
      " SFLU.OHMM                   :  5  RXO RESISTIVITY\n",
      " SFLA.OHMM                   :  6  SHALLOW RESISTIVITY\n",
      " ILM .OHMM                   :  7  MEDIUM RESISTIVITY\n",
      " ILD .OHMM                   :  8  DEEP RESISTIVITY\n",
      "~PARAMETER INFORMATION\n",
      "#MNEM.UNIT        VALUE       DESCRIPTION\n",
      "#---------    -------------   ------------------------------\n",
      " BHT .DEGC         35.5000:   BOTTOM HOLE TEMPERATURE\n",
      " BS  .MM          200.0000:   BIT SIZE\n",
      " FD  .K/M3       1000.0000:   FLUID DENSITY\n",
      " MATR.              0.0000:   NEUTRON MATRIX(0=LIME,1=SAND,2=DOLO)\n",
      " MDEN.           2710.0000:   LOGGING MATRIX DENSITY\n",
      " RMF .OHMM          0.2160:   MUD FILTRATE RESISTIVITY\n",
      " DFD .K/M3       1525.0000:   DRILL FLUID DENSITY\n",
      "~Other\n",
      "     Note: The logging tools became stuck at 625 meters causing the data\n",
      "\t   between 625 meters and 615 meters to be invalid.\n",
      "~A  DEPTH     DT       RHOB     NPHI     SFLU     SFLA      ILM      ILD\n",
      "1670.000   123.450 2550.000    0.450  123.450  123.450  110.200  105.600\n",
      "1669.875   123.450 2550.000    0.450  123.450  123.450  110.200  105.600\n",
      "1669.750   123.450 2550.000    0.450  123.450  123.450  110.200  105.600\n",
      "\n"
     ]
    }
   ],
   "source": [
    "print(l._text)"
   ]
  }
 ],
 "metadata": {
  "kernelspec": {
   "display_name": "Python 2",
   "language": "python",
   "name": "python2"
  },
  "language_info": {
   "codemirror_mode": {
    "name": "ipython",
    "version": 2
   },
   "file_extension": ".py",
   "mimetype": "text/x-python",
   "name": "python",
   "nbconvert_exporter": "python",
   "pygments_lexer": "ipython2",
   "version": "2.7.11"
  }
 },
 "nbformat": 4,
 "nbformat_minor": 0
}
